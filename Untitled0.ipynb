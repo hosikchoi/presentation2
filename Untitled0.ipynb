{
  "nbformat": 4,
  "nbformat_minor": 0,
  "metadata": {
    "colab": {
      "name": "Untitled0.ipynb",
      "provenance": [],
      "include_colab_link": true
    },
    "kernelspec": {
      "name": "python3",
      "display_name": "Python 3"
    }
  },
  "cells": [
    {
      "cell_type": "markdown",
      "metadata": {
        "id": "view-in-github",
        "colab_type": "text"
      },
      "source": [
        "<a href=\"https://colab.research.google.com/github/hosikchoi/presentation2/blob/master/Untitled0.ipynb\" target=\"_parent\"><img src=\"https://colab.research.google.com/assets/colab-badge.svg\" alt=\"Open In Colab\"/></a>"
      ]
    },
    {
      "cell_type": "markdown",
      "metadata": {
        "id": "jfQkfLDHMxAY",
        "colab_type": "text"
      },
      "source": [
        "####참조\n",
        "####https://datascienceschool.net/view-notebook/f9d9fddb7cc7494a9e4be99f0e137be0/ "
      ]
    },
    {
      "cell_type": "code",
      "metadata": {
        "id": "hS0z9YpP_iOt",
        "colab_type": "code",
        "colab": {
          "base_uri": "https://localhost:8080/",
          "height": 89
        },
        "outputId": "c738f1d4-2284-4fb4-f64c-83a50f5f08bc"
      },
      "source": [
        "drive.mount('/content/drive')"
      ],
      "execution_count": 17,
      "outputs": [
        {
          "output_type": "stream",
          "text": [
            "Mounted at //drive\n",
            "Mounted at /content/drive\n",
            "'My Drive'\n",
            "total 0\n"
          ],
          "name": "stdout"
        }
      ]
    },
    {
      "cell_type": "markdown",
      "metadata": {
        "id": "n7FDttASMmsR",
        "colab_type": "text"
      },
      "source": [
        "이 드라이브에는 구글 드라이브가 My Drive라는 이름의 폴더로 마운트되어 있다. 시험삼아 이 폴더 아래에 test_colab이라는 폴더를 만듦"
      ]
    },
    {
      "cell_type": "code",
      "metadata": {
        "id": "BzboiqXUMp7w",
        "colab_type": "code",
        "colab": {}
      },
      "source": [
        "!ls '/content/drive/'\n",
        "!mkdir -p '/content/drive/My Drive/test_colab'\n",
        "!ls -Fcal '/content/drive/My Drive/test_colab'"
      ],
      "execution_count": 0,
      "outputs": []
    },
    {
      "cell_type": "markdown",
      "metadata": {
        "id": "Y5VDFCsSNNnA",
        "colab_type": "text"
      },
      "source": [
        "#### 폴더안의 파일 읽기"
      ]
    },
    {
      "cell_type": "code",
      "metadata": {
        "id": "y-uaXHD9KDlU",
        "colab_type": "code",
        "colab": {}
      },
      "source": [
        "import os\n",
        "os.getcwd()\n",
        "os.chdir(\"/content/drive/My Drive/test_colab/\")\n",
        "\n",
        "import numpy as np\n",
        "import pandas as pd\n",
        "\n",
        "a = pd.read_csv(\"./datasets/HouseVotes84.csv\")"
      ],
      "execution_count": 0,
      "outputs": []
    },
    {
      "cell_type": "code",
      "metadata": {
        "id": "iiRewVbaLHOb",
        "colab_type": "code",
        "colab": {}
      },
      "source": [
        ""
      ],
      "execution_count": 0,
      "outputs": []
    }
  ]
}